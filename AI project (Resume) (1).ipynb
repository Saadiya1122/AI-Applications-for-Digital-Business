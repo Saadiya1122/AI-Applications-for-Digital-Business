{
 "cells": [
  {
   "cell_type": "markdown",
   "id": "662ae24c",
   "metadata": {},
   "source": [
    "# Introduction\n",
    "\n",
    "In this digital era, the recruiting process has changed rapidly by technology being used to optimise and increase the number of employment/hiring processes.\n",
    "The goal of this project is to improve the hiring process by creating a machine learning algorithm that can parse resumes in different formats and automating the comparison process which might be helpful for the recruiters to determine whether a candidate’s qualification and job criteria aligns. \n",
    "The Resume Parsing AI project uses modern methods like Natural Language Processing (NLP) and Artificial Intelligence (AI) to automate the analysis of data from resumes. The ultimate goal is to provide hiring managers and recruiters with a simpler accurate, and efficient way of finding top talent and making accurate recruiting decisions.\n"
   ]
  },
  {
   "cell_type": "markdown",
   "id": "9e853a4f",
   "metadata": {},
   "source": [
    "This project begins by importing necessary libraries for data analysis and visualisation. "
   ]
  },
  {
   "cell_type": "code",
   "execution_count": 1,
   "id": "88aa5895",
   "metadata": {},
   "outputs": [],
   "source": [
    "import numpy as np\n",
    "import pandas as pd\n",
    "import matplotlib.pyplot as plt\n",
    "import seaborn as sns\n",
    "import plotly.express as px"
   ]
  },
  {
   "cell_type": "markdown",
   "id": "292a84f4",
   "metadata": {},
   "source": [
    "The dataset loaded from a CSV file into a pandas dataframe as 'df'."
   ]
  },
  {
   "cell_type": "code",
   "execution_count": 2,
   "id": "d3c84a0e",
   "metadata": {},
   "outputs": [
    {
     "data": {
      "text/html": [
       "<div>\n",
       "<style scoped>\n",
       "    .dataframe tbody tr th:only-of-type {\n",
       "        vertical-align: middle;\n",
       "    }\n",
       "\n",
       "    .dataframe tbody tr th {\n",
       "        vertical-align: top;\n",
       "    }\n",
       "\n",
       "    .dataframe thead th {\n",
       "        text-align: right;\n",
       "    }\n",
       "</style>\n",
       "<table border=\"1\" class=\"dataframe\">\n",
       "  <thead>\n",
       "    <tr style=\"text-align: right;\">\n",
       "      <th></th>\n",
       "      <th>Category</th>\n",
       "      <th>Resume</th>\n",
       "      <th>Resume_Length</th>\n",
       "      <th>manual_resumes</th>\n",
       "    </tr>\n",
       "  </thead>\n",
       "  <tbody>\n",
       "    <tr>\n",
       "      <th>0</th>\n",
       "      <td>data science</td>\n",
       "      <td>skills programming languages python pandas num...</td>\n",
       "      <td>3960</td>\n",
       "      <td>skills programming languages python pandas num...</td>\n",
       "    </tr>\n",
       "    <tr>\n",
       "      <th>1</th>\n",
       "      <td>data science</td>\n",
       "      <td>education details may 2013 may 2017 uitrgpv da...</td>\n",
       "      <td>1027</td>\n",
       "      <td>education details may 2013 may 2017 uitrgpv da...</td>\n",
       "    </tr>\n",
       "    <tr>\n",
       "      <th>2</th>\n",
       "      <td>data science</td>\n",
       "      <td>areas interest deep learning control system de...</td>\n",
       "      <td>1524</td>\n",
       "      <td>areas interest deep learning control system de...</td>\n",
       "    </tr>\n",
       "    <tr>\n",
       "      <th>3</th>\n",
       "      <td>data science</td>\n",
       "      <td>skills â r â python â sap hana â tableau â sap...</td>\n",
       "      <td>5864</td>\n",
       "      <td>skills â r â python â sap hana â tableau â sap...</td>\n",
       "    </tr>\n",
       "    <tr>\n",
       "      <th>4</th>\n",
       "      <td>data science</td>\n",
       "      <td>education details mca ymcaust faridabad haryan...</td>\n",
       "      <td>373</td>\n",
       "      <td>education details mca ymcaust faridabad haryan...</td>\n",
       "    </tr>\n",
       "  </tbody>\n",
       "</table>\n",
       "</div>"
      ],
      "text/plain": [
       "       Category                                             Resume  \\\n",
       "0  data science  skills programming languages python pandas num...   \n",
       "1  data science  education details may 2013 may 2017 uitrgpv da...   \n",
       "2  data science  areas interest deep learning control system de...   \n",
       "3  data science  skills â r â python â sap hana â tableau â sap...   \n",
       "4  data science  education details mca ymcaust faridabad haryan...   \n",
       "\n",
       "   Resume_Length                                     manual_resumes  \n",
       "0           3960  skills programming languages python pandas num...  \n",
       "1           1027  education details may 2013 may 2017 uitrgpv da...  \n",
       "2           1524  areas interest deep learning control system de...  \n",
       "3           5864  skills â r â python â sap hana â tableau â sap...  \n",
       "4            373  education details mca ymcaust faridabad haryan...  "
      ]
     },
     "execution_count": 2,
     "metadata": {},
     "output_type": "execute_result"
    }
   ],
   "source": [
    "df = pd.read_csv(\"UpdatedResumeDataSet.csv\")\n",
    "df.head()"
   ]
  },
  {
   "cell_type": "markdown",
   "id": "e9cb84fb",
   "metadata": {},
   "source": [
    "The dataset have 962 rows and 2 columns i.e 'Categories' and 'Resumes'."
   ]
  },
  {
   "cell_type": "code",
   "execution_count": 3,
   "id": "0cb1ad74",
   "metadata": {},
   "outputs": [
    {
     "data": {
      "text/plain": [
       "(962, 4)"
      ]
     },
     "execution_count": 3,
     "metadata": {},
     "output_type": "execute_result"
    }
   ],
   "source": [
    "df.shape"
   ]
  },
  {
   "cell_type": "markdown",
   "id": "4ab0a5a6",
   "metadata": {},
   "source": [
    "Below the code is displaying basic information about the dataset i.e the number of entries, null values, dataset size, etc, followed by summary statistics which gives more information about this dataset as this dataset has more text values there are not many numerical values followed by the some information about the categories distribution and the number of resumes in each category with each resume's length."
   ]
  },
  {
   "cell_type": "code",
   "execution_count": 4,
   "id": "097e5026",
   "metadata": {},
   "outputs": [
    {
     "name": "stdout",
     "output_type": "stream",
     "text": [
      "Dataset Information:\n",
      "\n",
      "<class 'pandas.core.frame.DataFrame'>\n",
      "RangeIndex: 962 entries, 0 to 961\n",
      "Data columns (total 4 columns):\n",
      " #   Column          Non-Null Count  Dtype \n",
      "---  ------          --------------  ----- \n",
      " 0   Category        962 non-null    object\n",
      " 1   Resume          962 non-null    object\n",
      " 2   Resume_Length   962 non-null    int64 \n",
      " 3   manual_resumes  50 non-null     object\n",
      "dtypes: int64(1), object(3)\n",
      "memory usage: 30.2+ KB\n",
      "---------------------------------------------------\n",
      "\n",
      "Summary Statistics for Numerical Columns:\n",
      "\n",
      "       Resume_Length\n",
      "count     962.000000\n",
      "mean     2587.891892\n",
      "std      2323.793086\n",
      "min       115.000000\n",
      "25%      1015.000000\n",
      "50%      1866.000000\n",
      "75%      3174.000000\n",
      "max     11965.000000\n",
      "---------------------------------------------------\n",
      "\n",
      "Distribution of Categories:\n",
      "\n",
      "Category\n",
      "java developer               84\n",
      "testing                      70\n",
      "devops engineer              55\n",
      "python developer             48\n",
      "web designing                45\n",
      "hr                           44\n",
      "hadoop                       42\n",
      "blockchain                   40\n",
      "etl developer                40\n",
      "operations manager           40\n",
      "data science                 40\n",
      "sales                        40\n",
      "mechanical engineer          40\n",
      "arts                         36\n",
      "database                     33\n",
      "electrical engineering       30\n",
      "health and fitness           30\n",
      "pmo                          30\n",
      "business analyst             28\n",
      "dotnet developer             28\n",
      "automation testing           26\n",
      "network security engineer    25\n",
      "sap developer                24\n",
      "civil engineer               24\n",
      "advocate                     20\n",
      "Name: count, dtype: int64\n",
      "---------------------------------------------------\n",
      "\n",
      "Resume Length Statistics:\n",
      "\n",
      "count      962.000000\n",
      "mean      2587.891892\n",
      "std       2323.793086\n",
      "min        115.000000\n",
      "25%       1015.000000\n",
      "50%       1866.000000\n",
      "75%       3174.000000\n",
      "max      11965.000000\n",
      "Name: Resume_Length, dtype: float64\n",
      "---------------------------------------------------\n"
     ]
    }
   ],
   "source": [
    "# Display basic information about the dataset\n",
    "print(\"Dataset Information:\\n\")\n",
    "df.info()\n",
    "print('---------------------------------------------------')\n",
    "\n",
    "# Summary statistics for numerical columns\n",
    "print(\"\\nSummary Statistics for Numerical Columns:\\n\")\n",
    "print(df.describe())\n",
    "print('---------------------------------------------------')\n",
    "\n",
    "# Display the distribution of categories\n",
    "print(\"\\nDistribution of Categories:\\n\")\n",
    "print(df['Category'].value_counts())\n",
    "print('---------------------------------------------------')\n",
    "\n",
    "# Display the length of resumes\n",
    "df['Resume_Length'] = df['Resume'].apply(len)\n",
    "print(\"\\nResume Length Statistics:\\n\")\n",
    "print(df['Resume_Length'].describe())\n",
    "print('---------------------------------------------------')"
   ]
  },
  {
   "cell_type": "markdown",
   "id": "5f3d4051",
   "metadata": {},
   "source": [
    "In the below code Plotly library is used for visualisation. The below horizontal bar chart shows distribution of Categories i.e the count of resumes in each Category with highest count for Java Developer(count=84) and least for Advocate (count=20)."
   ]
  },
  {
   "cell_type": "code",
   "execution_count": 5,
   "id": "f6ac3e08",
   "metadata": {},
   "outputs": [
    {
     "data": {
      "application/vnd.plotly.v1+json": {
       "config": {
        "plotlyServerURL": "https://plot.ly"
       },
       "data": [
        {
         "alignmentgroup": "True",
         "hovertemplate": "Count=%{x}<br>Category=%{y}<extra></extra>",
         "legendgroup": "",
         "marker": {
          "color": "#636efa",
          "pattern": {
           "shape": ""
          }
         },
         "name": "",
         "offsetgroup": "",
         "orientation": "h",
         "showlegend": false,
         "textposition": "auto",
         "type": "bar",
         "x": [
          84,
          70,
          55,
          48,
          45,
          44,
          42,
          40,
          40,
          40,
          40,
          40,
          40,
          36,
          33,
          30,
          30,
          30,
          28,
          28,
          26,
          25,
          24,
          24,
          20
         ],
         "xaxis": "x",
         "y": [
          "java developer",
          "testing",
          "devops engineer",
          "python developer",
          "web designing",
          "hr",
          "hadoop",
          "blockchain",
          "etl developer",
          "operations manager",
          "data science",
          "sales",
          "mechanical engineer",
          "arts",
          "database",
          "electrical engineering",
          "health and fitness",
          "pmo",
          "business analyst",
          "dotnet developer",
          "automation testing",
          "network security engineer",
          "sap developer",
          "civil engineer",
          "advocate"
         ],
         "yaxis": "y"
        }
       ],
       "layout": {
        "barmode": "relative",
        "legend": {
         "tracegroupgap": 0
        },
        "template": {
         "data": {
          "bar": [
           {
            "error_x": {
             "color": "#2a3f5f"
            },
            "error_y": {
             "color": "#2a3f5f"
            },
            "marker": {
             "line": {
              "color": "#E5ECF6",
              "width": 0.5
             },
             "pattern": {
              "fillmode": "overlay",
              "size": 10,
              "solidity": 0.2
             }
            },
            "type": "bar"
           }
          ],
          "barpolar": [
           {
            "marker": {
             "line": {
              "color": "#E5ECF6",
              "width": 0.5
             },
             "pattern": {
              "fillmode": "overlay",
              "size": 10,
              "solidity": 0.2
             }
            },
            "type": "barpolar"
           }
          ],
          "carpet": [
           {
            "aaxis": {
             "endlinecolor": "#2a3f5f",
             "gridcolor": "white",
             "linecolor": "white",
             "minorgridcolor": "white",
             "startlinecolor": "#2a3f5f"
            },
            "baxis": {
             "endlinecolor": "#2a3f5f",
             "gridcolor": "white",
             "linecolor": "white",
             "minorgridcolor": "white",
             "startlinecolor": "#2a3f5f"
            },
            "type": "carpet"
           }
          ],
          "choropleth": [
           {
            "colorbar": {
             "outlinewidth": 0,
             "ticks": ""
            },
            "type": "choropleth"
           }
          ],
          "contour": [
           {
            "colorbar": {
             "outlinewidth": 0,
             "ticks": ""
            },
            "colorscale": [
             [
              0,
              "#0d0887"
             ],
             [
              0.1111111111111111,
              "#46039f"
             ],
             [
              0.2222222222222222,
              "#7201a8"
             ],
             [
              0.3333333333333333,
              "#9c179e"
             ],
             [
              0.4444444444444444,
              "#bd3786"
             ],
             [
              0.5555555555555556,
              "#d8576b"
             ],
             [
              0.6666666666666666,
              "#ed7953"
             ],
             [
              0.7777777777777778,
              "#fb9f3a"
             ],
             [
              0.8888888888888888,
              "#fdca26"
             ],
             [
              1,
              "#f0f921"
             ]
            ],
            "type": "contour"
           }
          ],
          "contourcarpet": [
           {
            "colorbar": {
             "outlinewidth": 0,
             "ticks": ""
            },
            "type": "contourcarpet"
           }
          ],
          "heatmap": [
           {
            "colorbar": {
             "outlinewidth": 0,
             "ticks": ""
            },
            "colorscale": [
             [
              0,
              "#0d0887"
             ],
             [
              0.1111111111111111,
              "#46039f"
             ],
             [
              0.2222222222222222,
              "#7201a8"
             ],
             [
              0.3333333333333333,
              "#9c179e"
             ],
             [
              0.4444444444444444,
              "#bd3786"
             ],
             [
              0.5555555555555556,
              "#d8576b"
             ],
             [
              0.6666666666666666,
              "#ed7953"
             ],
             [
              0.7777777777777778,
              "#fb9f3a"
             ],
             [
              0.8888888888888888,
              "#fdca26"
             ],
             [
              1,
              "#f0f921"
             ]
            ],
            "type": "heatmap"
           }
          ],
          "heatmapgl": [
           {
            "colorbar": {
             "outlinewidth": 0,
             "ticks": ""
            },
            "colorscale": [
             [
              0,
              "#0d0887"
             ],
             [
              0.1111111111111111,
              "#46039f"
             ],
             [
              0.2222222222222222,
              "#7201a8"
             ],
             [
              0.3333333333333333,
              "#9c179e"
             ],
             [
              0.4444444444444444,
              "#bd3786"
             ],
             [
              0.5555555555555556,
              "#d8576b"
             ],
             [
              0.6666666666666666,
              "#ed7953"
             ],
             [
              0.7777777777777778,
              "#fb9f3a"
             ],
             [
              0.8888888888888888,
              "#fdca26"
             ],
             [
              1,
              "#f0f921"
             ]
            ],
            "type": "heatmapgl"
           }
          ],
          "histogram": [
           {
            "marker": {
             "pattern": {
              "fillmode": "overlay",
              "size": 10,
              "solidity": 0.2
             }
            },
            "type": "histogram"
           }
          ],
          "histogram2d": [
           {
            "colorbar": {
             "outlinewidth": 0,
             "ticks": ""
            },
            "colorscale": [
             [
              0,
              "#0d0887"
             ],
             [
              0.1111111111111111,
              "#46039f"
             ],
             [
              0.2222222222222222,
              "#7201a8"
             ],
             [
              0.3333333333333333,
              "#9c179e"
             ],
             [
              0.4444444444444444,
              "#bd3786"
             ],
             [
              0.5555555555555556,
              "#d8576b"
             ],
             [
              0.6666666666666666,
              "#ed7953"
             ],
             [
              0.7777777777777778,
              "#fb9f3a"
             ],
             [
              0.8888888888888888,
              "#fdca26"
             ],
             [
              1,
              "#f0f921"
             ]
            ],
            "type": "histogram2d"
           }
          ],
          "histogram2dcontour": [
           {
            "colorbar": {
             "outlinewidth": 0,
             "ticks": ""
            },
            "colorscale": [
             [
              0,
              "#0d0887"
             ],
             [
              0.1111111111111111,
              "#46039f"
             ],
             [
              0.2222222222222222,
              "#7201a8"
             ],
             [
              0.3333333333333333,
              "#9c179e"
             ],
             [
              0.4444444444444444,
              "#bd3786"
             ],
             [
              0.5555555555555556,
              "#d8576b"
             ],
             [
              0.6666666666666666,
              "#ed7953"
             ],
             [
              0.7777777777777778,
              "#fb9f3a"
             ],
             [
              0.8888888888888888,
              "#fdca26"
             ],
             [
              1,
              "#f0f921"
             ]
            ],
            "type": "histogram2dcontour"
           }
          ],
          "mesh3d": [
           {
            "colorbar": {
             "outlinewidth": 0,
             "ticks": ""
            },
            "type": "mesh3d"
           }
          ],
          "parcoords": [
           {
            "line": {
             "colorbar": {
              "outlinewidth": 0,
              "ticks": ""
             }
            },
            "type": "parcoords"
           }
          ],
          "pie": [
           {
            "automargin": true,
            "type": "pie"
           }
          ],
          "scatter": [
           {
            "fillpattern": {
             "fillmode": "overlay",
             "size": 10,
             "solidity": 0.2
            },
            "type": "scatter"
           }
          ],
          "scatter3d": [
           {
            "line": {
             "colorbar": {
              "outlinewidth": 0,
              "ticks": ""
             }
            },
            "marker": {
             "colorbar": {
              "outlinewidth": 0,
              "ticks": ""
             }
            },
            "type": "scatter3d"
           }
          ],
          "scattercarpet": [
           {
            "marker": {
             "colorbar": {
              "outlinewidth": 0,
              "ticks": ""
             }
            },
            "type": "scattercarpet"
           }
          ],
          "scattergeo": [
           {
            "marker": {
             "colorbar": {
              "outlinewidth": 0,
              "ticks": ""
             }
            },
            "type": "scattergeo"
           }
          ],
          "scattergl": [
           {
            "marker": {
             "colorbar": {
              "outlinewidth": 0,
              "ticks": ""
             }
            },
            "type": "scattergl"
           }
          ],
          "scattermapbox": [
           {
            "marker": {
             "colorbar": {
              "outlinewidth": 0,
              "ticks": ""
             }
            },
            "type": "scattermapbox"
           }
          ],
          "scatterpolar": [
           {
            "marker": {
             "colorbar": {
              "outlinewidth": 0,
              "ticks": ""
             }
            },
            "type": "scatterpolar"
           }
          ],
          "scatterpolargl": [
           {
            "marker": {
             "colorbar": {
              "outlinewidth": 0,
              "ticks": ""
             }
            },
            "type": "scatterpolargl"
           }
          ],
          "scatterternary": [
           {
            "marker": {
             "colorbar": {
              "outlinewidth": 0,
              "ticks": ""
             }
            },
            "type": "scatterternary"
           }
          ],
          "surface": [
           {
            "colorbar": {
             "outlinewidth": 0,
             "ticks": ""
            },
            "colorscale": [
             [
              0,
              "#0d0887"
             ],
             [
              0.1111111111111111,
              "#46039f"
             ],
             [
              0.2222222222222222,
              "#7201a8"
             ],
             [
              0.3333333333333333,
              "#9c179e"
             ],
             [
              0.4444444444444444,
              "#bd3786"
             ],
             [
              0.5555555555555556,
              "#d8576b"
             ],
             [
              0.6666666666666666,
              "#ed7953"
             ],
             [
              0.7777777777777778,
              "#fb9f3a"
             ],
             [
              0.8888888888888888,
              "#fdca26"
             ],
             [
              1,
              "#f0f921"
             ]
            ],
            "type": "surface"
           }
          ],
          "table": [
           {
            "cells": {
             "fill": {
              "color": "#EBF0F8"
             },
             "line": {
              "color": "white"
             }
            },
            "header": {
             "fill": {
              "color": "#C8D4E3"
             },
             "line": {
              "color": "white"
             }
            },
            "type": "table"
           }
          ]
         },
         "layout": {
          "annotationdefaults": {
           "arrowcolor": "#2a3f5f",
           "arrowhead": 0,
           "arrowwidth": 1
          },
          "autotypenumbers": "strict",
          "coloraxis": {
           "colorbar": {
            "outlinewidth": 0,
            "ticks": ""
           }
          },
          "colorscale": {
           "diverging": [
            [
             0,
             "#8e0152"
            ],
            [
             0.1,
             "#c51b7d"
            ],
            [
             0.2,
             "#de77ae"
            ],
            [
             0.3,
             "#f1b6da"
            ],
            [
             0.4,
             "#fde0ef"
            ],
            [
             0.5,
             "#f7f7f7"
            ],
            [
             0.6,
             "#e6f5d0"
            ],
            [
             0.7,
             "#b8e186"
            ],
            [
             0.8,
             "#7fbc41"
            ],
            [
             0.9,
             "#4d9221"
            ],
            [
             1,
             "#276419"
            ]
           ],
           "sequential": [
            [
             0,
             "#0d0887"
            ],
            [
             0.1111111111111111,
             "#46039f"
            ],
            [
             0.2222222222222222,
             "#7201a8"
            ],
            [
             0.3333333333333333,
             "#9c179e"
            ],
            [
             0.4444444444444444,
             "#bd3786"
            ],
            [
             0.5555555555555556,
             "#d8576b"
            ],
            [
             0.6666666666666666,
             "#ed7953"
            ],
            [
             0.7777777777777778,
             "#fb9f3a"
            ],
            [
             0.8888888888888888,
             "#fdca26"
            ],
            [
             1,
             "#f0f921"
            ]
           ],
           "sequentialminus": [
            [
             0,
             "#0d0887"
            ],
            [
             0.1111111111111111,
             "#46039f"
            ],
            [
             0.2222222222222222,
             "#7201a8"
            ],
            [
             0.3333333333333333,
             "#9c179e"
            ],
            [
             0.4444444444444444,
             "#bd3786"
            ],
            [
             0.5555555555555556,
             "#d8576b"
            ],
            [
             0.6666666666666666,
             "#ed7953"
            ],
            [
             0.7777777777777778,
             "#fb9f3a"
            ],
            [
             0.8888888888888888,
             "#fdca26"
            ],
            [
             1,
             "#f0f921"
            ]
           ]
          },
          "colorway": [
           "#636efa",
           "#EF553B",
           "#00cc96",
           "#ab63fa",
           "#FFA15A",
           "#19d3f3",
           "#FF6692",
           "#B6E880",
           "#FF97FF",
           "#FECB52"
          ],
          "font": {
           "color": "#2a3f5f"
          },
          "geo": {
           "bgcolor": "white",
           "lakecolor": "white",
           "landcolor": "#E5ECF6",
           "showlakes": true,
           "showland": true,
           "subunitcolor": "white"
          },
          "hoverlabel": {
           "align": "left"
          },
          "hovermode": "closest",
          "mapbox": {
           "style": "light"
          },
          "paper_bgcolor": "white",
          "plot_bgcolor": "#E5ECF6",
          "polar": {
           "angularaxis": {
            "gridcolor": "white",
            "linecolor": "white",
            "ticks": ""
           },
           "bgcolor": "#E5ECF6",
           "radialaxis": {
            "gridcolor": "white",
            "linecolor": "white",
            "ticks": ""
           }
          },
          "scene": {
           "xaxis": {
            "backgroundcolor": "#E5ECF6",
            "gridcolor": "white",
            "gridwidth": 2,
            "linecolor": "white",
            "showbackground": true,
            "ticks": "",
            "zerolinecolor": "white"
           },
           "yaxis": {
            "backgroundcolor": "#E5ECF6",
            "gridcolor": "white",
            "gridwidth": 2,
            "linecolor": "white",
            "showbackground": true,
            "ticks": "",
            "zerolinecolor": "white"
           },
           "zaxis": {
            "backgroundcolor": "#E5ECF6",
            "gridcolor": "white",
            "gridwidth": 2,
            "linecolor": "white",
            "showbackground": true,
            "ticks": "",
            "zerolinecolor": "white"
           }
          },
          "shapedefaults": {
           "line": {
            "color": "#2a3f5f"
           }
          },
          "ternary": {
           "aaxis": {
            "gridcolor": "white",
            "linecolor": "white",
            "ticks": ""
           },
           "baxis": {
            "gridcolor": "white",
            "linecolor": "white",
            "ticks": ""
           },
           "bgcolor": "#E5ECF6",
           "caxis": {
            "gridcolor": "white",
            "linecolor": "white",
            "ticks": ""
           }
          },
          "title": {
           "x": 0.05
          },
          "xaxis": {
           "automargin": true,
           "gridcolor": "white",
           "linecolor": "white",
           "ticks": "",
           "title": {
            "standoff": 15
           },
           "zerolinecolor": "white",
           "zerolinewidth": 2
          },
          "yaxis": {
           "automargin": true,
           "gridcolor": "white",
           "linecolor": "white",
           "ticks": "",
           "title": {
            "standoff": 15
           },
           "zerolinecolor": "white",
           "zerolinewidth": 2
          }
         }
        },
        "title": {
         "text": "Distribution of Categories"
        },
        "xaxis": {
         "anchor": "y",
         "domain": [
          0,
          1
         ],
         "title": {
          "text": "Count"
         }
        },
        "yaxis": {
         "anchor": "x",
         "domain": [
          0,
          1
         ],
         "title": {
          "text": "Category"
         }
        }
       }
      }
     },
     "metadata": {},
     "output_type": "display_data"
    }
   ],
   "source": [
    "import plotly.express as px\n",
    "\n",
    "category_counts = df['Category'].value_counts().reset_index()\n",
    "category_counts.columns = ['Category', 'Count']\n",
    "\n",
    "fig = px.bar(category_counts, x='Count', y='Category', orientation='h', title='Distribution of Categories')\n",
    "fig.show()"
   ]
  },
  {
   "cell_type": "markdown",
   "id": "adf308f2",
   "metadata": {},
   "source": [
    "# Cleaning"
   ]
  },
  {
   "cell_type": "markdown",
   "id": "bcbe08e6",
   "metadata": {},
   "source": [
    "After the exploration part of the dataset. This project proceeds to the cleaning part."
   ]
  },
  {
   "cell_type": "markdown",
   "id": "230f2d58",
   "metadata": {},
   "source": [
    "Below code uses pandas library to drop unnecessary columns like 'Arts' and 'Advocate' from the dataset."
   ]
  },
  {
   "cell_type": "code",
   "execution_count": 6,
   "id": "5462ecca",
   "metadata": {},
   "outputs": [],
   "source": [
    "# Drop rows with 'Arts' and 'Advocate' categories\n",
    "df_filtered = df[~df['Category'].isin(['Arts', 'Advocate'])]"
   ]
  },
  {
   "cell_type": "markdown",
   "id": "36b7acba",
   "metadata": {},
   "source": [
    "The below code imports some necessary libraries for cleaning and preprocessing the dataset. Initializing the process by defining a function called 'clean' which preprocess the data it compiles with regular expressions to match and remove the URL's and emails it also removes special characters and keep only words and whitespaces. Followed by removing the stopwords like  \"the\", \"is\", \"in\", etc by using the NLTK library. The function is then applied to the original 'Resume' column by using 'apply' method."
   ]
  },
  {
   "cell_type": "code",
   "execution_count": 7,
   "id": "9210182e",
   "metadata": {},
   "outputs": [
    {
     "name": "stderr",
     "output_type": "stream",
     "text": [
      "[nltk_data] Downloading package stopwords to\n",
      "[nltk_data]     /Users/saadiyashaikh/nltk_data...\n",
      "[nltk_data]   Package stopwords is already up-to-date!\n"
     ]
    },
    {
     "data": {
      "text/html": [
       "<div>\n",
       "<style scoped>\n",
       "    .dataframe tbody tr th:only-of-type {\n",
       "        vertical-align: middle;\n",
       "    }\n",
       "\n",
       "    .dataframe tbody tr th {\n",
       "        vertical-align: top;\n",
       "    }\n",
       "\n",
       "    .dataframe thead th {\n",
       "        text-align: right;\n",
       "    }\n",
       "</style>\n",
       "<table border=\"1\" class=\"dataframe\">\n",
       "  <thead>\n",
       "    <tr style=\"text-align: right;\">\n",
       "      <th></th>\n",
       "      <th>Category</th>\n",
       "      <th>Resume</th>\n",
       "      <th>Resume_Length</th>\n",
       "      <th>manual_resumes</th>\n",
       "    </tr>\n",
       "  </thead>\n",
       "  <tbody>\n",
       "    <tr>\n",
       "      <th>0</th>\n",
       "      <td>data science</td>\n",
       "      <td>skills programming languages python pandas num...</td>\n",
       "      <td>3960</td>\n",
       "      <td>skills programming languages python pandas num...</td>\n",
       "    </tr>\n",
       "    <tr>\n",
       "      <th>1</th>\n",
       "      <td>data science</td>\n",
       "      <td>education details may 2013 may 2017 uitrgpv da...</td>\n",
       "      <td>1027</td>\n",
       "      <td>education details may 2013 may 2017 uitrgpv da...</td>\n",
       "    </tr>\n",
       "    <tr>\n",
       "      <th>2</th>\n",
       "      <td>data science</td>\n",
       "      <td>areas interest deep learning control system de...</td>\n",
       "      <td>1524</td>\n",
       "      <td>areas interest deep learning control system de...</td>\n",
       "    </tr>\n",
       "    <tr>\n",
       "      <th>3</th>\n",
       "      <td>data science</td>\n",
       "      <td>skills â r â python â sap hana â tableau â sap...</td>\n",
       "      <td>5864</td>\n",
       "      <td>skills â r â python â sap hana â tableau â sap...</td>\n",
       "    </tr>\n",
       "    <tr>\n",
       "      <th>4</th>\n",
       "      <td>data science</td>\n",
       "      <td>education details mca ymcaust faridabad haryan...</td>\n",
       "      <td>373</td>\n",
       "      <td>education details mca ymcaust faridabad haryan...</td>\n",
       "    </tr>\n",
       "  </tbody>\n",
       "</table>\n",
       "</div>"
      ],
      "text/plain": [
       "       Category                                             Resume  \\\n",
       "0  data science  skills programming languages python pandas num...   \n",
       "1  data science  education details may 2013 may 2017 uitrgpv da...   \n",
       "2  data science  areas interest deep learning control system de...   \n",
       "3  data science  skills â r â python â sap hana â tableau â sap...   \n",
       "4  data science  education details mca ymcaust faridabad haryan...   \n",
       "\n",
       "   Resume_Length                                     manual_resumes  \n",
       "0           3960  skills programming languages python pandas num...  \n",
       "1           1027  education details may 2013 may 2017 uitrgpv da...  \n",
       "2           1524  areas interest deep learning control system de...  \n",
       "3           5864  skills â r â python â sap hana â tableau â sap...  \n",
       "4            373  education details mca ymcaust faridabad haryan...  "
      ]
     },
     "execution_count": 7,
     "metadata": {},
     "output_type": "execute_result"
    }
   ],
   "source": [
    "import re\n",
    "import nltk\n",
    "from nltk.corpus import stopwords\n",
    "nltk.download('stopwords')\n",
    "\n",
    "def clean(text):\n",
    "    # Compile patterns for URLs and emails to speed up the cleaning process\n",
    "    url_pattern = re.compile(r'https?://\\S+|www\\.\\S+')\n",
    "    email_pattern = re.compile(r'\\b[A-Za-z0-9._%+-]+@[A-Za-z0-9.-]+\\.[A-Z|a-z]{2,}\\b')\n",
    "\n",
    "    # Remove URLs\n",
    "    clean_text = url_pattern.sub('', text)\n",
    "\n",
    "    # Remove emails\n",
    "    clean_text = email_pattern.sub('', clean_text)\n",
    "\n",
    "    # Remove special characters (keeping only words & whitespace)\n",
    "    clean_text = re.sub(r'[^\\w\\s]', '', clean_text)\n",
    "\n",
    "    # Remove stop words by filtering the split words of the text\n",
    "    stop_words = set(stopwords.words('english'))\n",
    "    clean_text = ' '.join(word for word in clean_text.split() if word.lower() not in stop_words)\n",
    "\n",
    "    return clean_text\n",
    "\n",
    "df[\"Resume\"] = df[\"Resume\"].apply(lambda x: clean(x))\n",
    "df.head()"
   ]
  },
  {
   "cell_type": "markdown",
   "id": "ad57cecc",
   "metadata": {},
   "source": [
    "This for loop iterates over each column in the df and check if the column contains string values. If there is any string value then it will convert it to lowercase using str.lower()"
   ]
  },
  {
   "cell_type": "code",
   "execution_count": 8,
   "id": "10b908d8",
   "metadata": {},
   "outputs": [],
   "source": [
    "for column in df.columns:\n",
    "    if df[column].dtype == 'O':  # Check if the column contains object (string) values\n",
    "        df[column] = df[column].str.lower()"
   ]
  },
  {
   "cell_type": "markdown",
   "id": "ef9e4577",
   "metadata": {},
   "source": [
    "##### Checking the changes from one of the resume of the dataset."
   ]
  },
  {
   "cell_type": "code",
   "execution_count": 9,
   "id": "8d0c7f45",
   "metadata": {},
   "outputs": [
    {
     "data": {
      "text/plain": [
       "'skills programming languages python pandas numpy scipy scikitlearn matplotlib sql java javascriptjquery machine learning regression svm naãve bayes knn random forest decision trees boosting techniques cluster analysis word embedding sentiment analysis natural language processing dimensionality reduction topic modelling lda nmf pca neural nets database visualizations mysql sqlserver cassandra hbase elasticsearch d3js dcjs plotly kibana matplotlib ggplot tableau others regular expression html css angular 6 logstash kafka python flask git docker computer vision open cv understanding deep learningeducation details data science assurance associate data science assurance associate ernst young llp skill details javascript exprience 24 months jquery exprience 24 months python exprience 24 monthscompany details company ernst young llp description fraud investigations dispute services assurance technology assisted review tar technology assisted review assists accelerating review process run analytics generate reports core member team helped developing automated review platform tool scratch assisting e discovery domain tool implements predictive coding topic modelling automating reviews resulting reduced labor costs time spent lawyers review understand end end flow solution research development classification models predictive analysis mining information present text data worked analyzing outputs precision monitoring entire tool tar assists predictive coding topic modelling evidence following ey standards developed classifier models order identify red flags fraudrelated issues tools technologies python scikitlearn tfidf word2vec doc2vec cosine similarity naãve bayes lda nmf topic modelling vader text blob sentiment analysis matplot lib tableau dashboard reporting multiple data science analytic projects usa clients text analytics motor vehicle customer review data received customer feedback survey data past one year performed sentiment positive negative neutral time series analysis customer comments across 4 categories created heat map terms survey category based frequency words extracted positive negative words across survey categories plotted word cloud created customized tableau dashboards effective reporting visualizations chatbot developed user friendly chatbot one products handle simple questions hours operation reservation options chat bot serves entire product related questions giving overview tool via qa platform also give recommendation responses user question build chain relevant answer intelligence build pipeline questions per user requirement asks relevant recommended questions tools technologies python natural language processing nltk spacy topic modelling sentiment analysis word embedding scikitlearn javascriptjquery sqlserver information governance organizations make informed decisions information store integrated information governance portfolio synthesizes intelligence across unstructured data sources facilitates action ensure organizations best positioned counter information risk scan data multiple sources formats parse different file formats extract meta data information push results indexing elastic search created customized interactive dashboards using kibana preforming rot analysis data give information data helps identify content either redundant outdated trivial preforming fulltext search analysis elastic search predefined methods tag pii personally identifiable information social security numbers addresses names etc frequently targeted cyberattacks tools technologies python flask elastic search kibana fraud analytic platform fraud analytics investigative platform review red flag cases â fap fraud analytics investigative platform inbuilt case manager suite analytics various erp systems used clients interrogate accounting systems identifying anomalies indicators fraud running advanced analytics tools technologies html javascript sqlserver jquery css bootstrap nodejs d3js dcjs'"
      ]
     },
     "execution_count": 9,
     "metadata": {},
     "output_type": "execute_result"
    }
   ],
   "source": [
    "df['Resume'][0]"
   ]
  },
  {
   "cell_type": "markdown",
   "id": "1d911c61",
   "metadata": {},
   "source": [
    "# Preprocessing"
   ]
  },
  {
   "cell_type": "markdown",
   "id": "58f98fb0",
   "metadata": {},
   "source": [
    "This code simply takes the first 50 resumes from the dataset then it creates a new column in the DataFrame named \"manual_resumes,\" then it adds the selected resumes to this column and saves the modified DataFrame back to a CSV file."
   ]
  },
  {
   "cell_type": "code",
   "execution_count": 10,
   "id": "b205e78e",
   "metadata": {},
   "outputs": [
    {
     "name": "stdout",
     "output_type": "stream",
     "text": [
      "       Category                                             Resume  \\\n",
      "0  data science  skills programming languages python pandas num...   \n",
      "1  data science  education details may 2013 may 2017 uitrgpv da...   \n",
      "2  data science  areas interest deep learning control system de...   \n",
      "3  data science  skills â r â python â sap hana â tableau â sap...   \n",
      "4  data science  education details mca ymcaust faridabad haryan...   \n",
      "5  data science  skills c basics iot python matlab data science...   \n",
      "6  data science  skills â python â tableau â data visualization...   \n",
      "7  data science  education details btech rayat bahra institute ...   \n",
      "8  data science  personal skills â ability quickly grasp techni...   \n",
      "9  data science  expertise â data quantitative analysis â decis...   \n",
      "\n",
      "   Resume_Length                                     manual_resumes  \n",
      "0           3960  skills programming languages python pandas num...  \n",
      "1           1027  education details may 2013 may 2017 uitrgpv da...  \n",
      "2           1524  areas interest deep learning control system de...  \n",
      "3           5864  skills â r â python â sap hana â tableau â sap...  \n",
      "4            373  education details mca ymcaust faridabad haryan...  \n",
      "5            611  skills c basics iot python matlab data science...  \n",
      "6           1459  skills â python â tableau â data visualization...  \n",
      "7           6585  education details btech rayat bahra institute ...  \n",
      "8           1547  personal skills â ability quickly grasp techni...  \n",
      "9           3460  expertise â data quantitative analysis â decis...  \n"
     ]
    }
   ],
   "source": [
    "import pandas as pd\n",
    "\n",
    "# Select the first 50 resumes from the dataset\n",
    "selected_resumes = df.loc[:49, 'Resume']\n",
    "\n",
    "# Create a new column 'manual_resumes' with NaN values\n",
    "df['manual_resumes'] = np.nan\n",
    "\n",
    "# Assign the selected resumes to the 'manual_resumes' column\n",
    "df.loc[:49, 'manual_resumes'] = selected_resumes.values\n",
    "\n",
    "# Save the DataFrame with the new column\n",
    "df.to_csv(\"UpdatedResumeDataSet.csv\", index=False)\n",
    "\n",
    "print(df.head(10))"
   ]
  },
  {
   "cell_type": "markdown",
   "id": "6bf6de66",
   "metadata": {},
   "source": [
    "A list of dictionaries called job_descriptions is used in this below code to create a DataFrame 'df2'. Each dictionary is a job description which also have some more details like the job title, company, location, job description, about the company and requirements. These sample job descriptions are collected from many different websites. \n",
    "\n",
    "The columns of the DataFrame df2 are as follows:\n",
    "\n",
    "\"Job Title\": The title of the job role.\n",
    "\n",
    "\"Company\": The title of the company which is hiring.\n",
    "\n",
    "\"Location\": The job's location.\n",
    "\n",
    "\"About Company\": a description of the company that includes details about its aim, basic values, and services.\n",
    "\n",
    "\"Description\": a thorough explanation of what is required for the position. \"Responsibilities\": Specific tasks related to the position.\n",
    "\n",
    "\"Requirements\": The education, training, and work experience needed for the position. \n",
    "\n",
    "Finally the code prints the initial few rows of the dataframe df2."
   ]
  },
  {
   "cell_type": "code",
   "execution_count": 11,
   "id": "926c2b53",
   "metadata": {},
   "outputs": [
    {
     "name": "stdout",
     "output_type": "stream",
     "text": [
      "               Job Title                        Company  \\\n",
      "0  Senior Data Scientist        DataTech Solutions Inc.   \n",
      "1      Software Engineer                TechGenius Ltd.   \n",
      "2        Project Manager                 ShopSmart Inc.   \n",
      "3      Marketing Manager     DigitalPulse Solutions LLC   \n",
      "4          Data Engineer  CloudWorks Technologies Corp.   \n",
      "\n",
      "                 Location                                      About Company  \\\n",
      "0  San Francisco, CA, USA  DataTech Solutions helps businesses use their ...   \n",
      "1        Seattle, WA, USA  TechGenius Ltd. helps businesses win in the di...   \n",
      "2       New York, NY, USA  We're a leading e-commerce company that's all ...   \n",
      "3    Los Angeles, CA, USA  DigitalPulse Solutions LLC is a leading digita...   \n",
      "4         Austin, TX, USA  CloudWorks Technologies Corp. is a leading pro...   \n",
      "\n",
      "                                         Description  \\\n",
      "0  We are seeking a highly skilled Senior Data Sc...   \n",
      "1  We are looking for a passionate Software Engin...   \n",
      "2  We are seeking a talented and experienced Proj...   \n",
      "3  At DigitalPulse Solutions LLC, marketing is ab...   \n",
      "4  We are looking for a savvy Data Engineer to jo...   \n",
      "\n",
      "                                    Responsibilities  \\\n",
      "0  * Lead end-to-end data science projects, from ...   \n",
      "1  * Execute full software development life cycle...   \n",
      "2  * Coordinate internal resources and third part...   \n",
      "3  * Help develop creative briefs and guide creat...   \n",
      "4  * Create and maintain optimal data pipeline ar...   \n",
      "\n",
      "                                        Requirements  \n",
      "0  * Develop and implement advanced statistical a...  \n",
      "1  * Proven work experience as a Software Enginee...  \n",
      "2  * Bachelor's degree in computer science, busin...  \n",
      "3  * Proven success in developing marketing plans...  \n",
      "4  * Advanced working SQL knowledge and experienc...  \n"
     ]
    }
   ],
   "source": [
    "import pandas as pd\n",
    "\n",
    "# Define the job descriptions with additional information\n",
    "job_descriptions = [\n",
    "    {\n",
    "    \"Job Title\": \"Senior Data Scientist\",\n",
    "    \"Company\": \"DataTech Solutions Inc.\",\n",
    "    \"Location\": \"San Francisco, CA, USA\",\n",
    "    \"About Company\":\"DataTech Solutions helps businesses use their data to get ahead. We're a tech company with experts in data analysis, artificial intelligence, and machine learning. We take a bunch of information, make it clear and useful, and help companies figure out new and better ways to do things. Our team loves using the latest tech to solve problems and make a real difference!\",\n",
    "    \"Description\": \"We are seeking a highly skilled Senior Data Scientist to join our dynamic team. This role involves tackling complex data challenges, developing predictive models, and extracting valuable insights to inform strategic decisions.The ideal candidate will have a strong background in data science, with proven experience in machine learning, statistical analysis, and big data technologies. You will lead projects from conception to deployment, mentor junior data scientists, and collaborate with cross-functional teams to drive innovation and improve our data-driven decision-making processes. If you are passionate about leveraging data to solve problems and have a track record of delivering impactful data science solutions, we would love to hear from you.\",\n",
    "    \"Responsibilities\": \"* Lead end-to-end data science projects, from problem formulation and data exploration to model development, deployment, and performance monitoring.* Develop and implement advanced machine learning algorithms and statistical models to analyze large-scale datasets, extract valuable insights, and drive business outcomes.* Collaborate with cross-functional teams, including engineers, product managers, and business stakeholders, to define project objectives, prioritize tasks, and deliver high-impact solutions on time and within budget.* Mentor and guide junior data scientists, providing technical leadership, sharing best practices, and fostering a culture of continuous learning and professional growth.* Stay abreast of the latest advancements in data science, machine learning, and artificial intelligence, and apply cutting-edge techniques and methodologies to solve real-world problems.\\n* Communicate findings, insights, and recommendations effectively to both technical and non-technical audiences through clear visualizations, reports, and presentations.\\n* Contribute to the development of reusable frameworks, libraries, and tools to streamline data analysis, model development, and deployment processes.* Act as a subject matter expert in data science and machine learning, providing thought leadership, participating in industry conferences, and representing DataTech Solutions Inc. in the data science community.\",\n",
    "    \"Requirements\": \"* Develop and implement advanced statistical and machine learning models to solve complex problems * Lead the data-driven decision-making process, from data collection and analysis to implementation and monitoring of solutions* Manage data science projects, ensuring they meet business requirements and are delivered on time* Mentor junior data scientists, providing guidance and support in their professional development* Collaborate with cross-functional teams to understand business challenges and objectives, translating complex data into actionable insights* Stay abreast of industry trends and advancements in data science and machine learning, continuously improving our methodologies and technologies\"},\n",
    "    \n",
    "    {\n",
    "    \"Job Title\": \"Software Engineer\",\n",
    "    \"Company\": \"TechGenius Ltd.\",\n",
    "    \"Location\": \"Seattle, WA, USA\",\n",
    "    \"About Company\": \"TechGenius Ltd. helps businesses win in the digital age. We're a tech company with a team of super-smart engineers, designers, and innovators who build cutting-edge software and digital tools. We focus on making high-quality products that help businesses succeed. We're passionate about using technology to solve problems and make a real difference!\",\n",
    "    \"Description\": \"We are looking for a passionate Software Engineer to design, develop and install software solutions. Software Engineer responsibilities include gathering user requirements, defining system functionality and writing code in various languages, like Java, Ruby on Rails or .NET programming languages (e.g. C++ or JScript.NET.) Our ideal candidates are familiar with the software development life cycle (SDLC) from preliminary system analysis to tests and deployment. Ultimately, the role of the Software Engineer is to build high-quality, innovative and fully performing software that complies with coding standards and technical design.\",\n",
    "    \"Responsibilities\": \"* Execute full software development life cycle (SDLC)* Develop flowcharts, layouts and documentation to identify requirements and solutions* Write well-designed, testable code* Produce specifications and determine operational feasibility* Integrate software components into a fully functional software system* Develop software verification plans and quality assurance procedures* Document and maintain software functionality* Troubleshoot, debug and upgrade existing systems* Deploy programs and evaluate user feedback* Comply with project plans and industry standards* Ensure software is updated with latest features\", \n",
    "    \"Requirements\": \"* Proven work experience as a Software Engineer or Software Developer*Experience designing interactive applications*Ability to develop software in Java, Ruby on Rails, C++ or other programming languages*Excellent knowledge of relational databases, SQL and ORM technologies (JPA2, Hibernate) *Experience developing web applications using at least one popular web framework (JSF, Wicket, GWT, Spring MVC)*Experience with test-driven development *Proficiency in software engineering tools *Ability to document requirements and specifications*BSc degree in Computer Science, Engineering or relevant field\"},\n",
    "     \n",
    "    {\n",
    "    \"Job Title\": \"Project Manager\",\n",
    "    \"Company\": \"ShopSmart Inc.\",\n",
    "    \"Location\": \"New York, NY, USA\",\n",
    "    \"About Company\": \"We're a leading e-commerce company that's all about creating new and exciting ways to shop online. We focus on keeping our customers happy with an easy-to-use platform and personalized features. Our awesome team is always looking for ways to improve and grow, making sure ShopSmart stays ahead of the curve in the ever-changing world of online shopping!\",\n",
    "    \"Description\": \"We are seeking a talented and experienced Project Manager to join our team in New York City. As a Project Manager at ShopSmart Inc., you will be responsible for leading the development and execution of our e-commerce platform strategy, driving product enhancements, and delivering exceptional shopping experiences for our customers. You will collaborate closely with cross-functional teams to define project requirements, prioritize features, and manage project roadmap execution to achieve business objectives and customer satisfaction.\",\n",
    "    \"Responsibilities\": \"* Coordinate internal resources and third parties/vendors for the flawless execution of projects * Ensure that all projects are delivered on-time, within scope and within budget * Develop project scopes and objectives, involving all relevant stakeholders and ensuring technical feasibility * Ensure resource availability and allocation * Develop a detailed project plan to track progress * Use appropriate verification techniques to manage changes in project scope, schedule and costs * Measure project performance using appropriate systems, tools and techniques * Report and escalate to management as needed * Manage the relationship with the client and all stakeholders * Perform risk management to minimize project risks * Establish and maintain relationships with third parties/vendors * Create and maintain comprehensive project documentation\",\n",
    "    \"Requirements\": \"* Bachelor's degree in computer science, business, or a related field * 5-8 years of project management and related experience * Project Management Professional (PMP) certification preferred * Proven ability to solve problems creatively * Strong familiarity with project management software tools, methodologies, and best practices * Experience seeing projects through the full life cycle * Excellent analytical skills * Strong interpersonal skills and extremely resourceful * Proven ability to complete projects according to outlined scope, budget, and timeline\"},\n",
    "\n",
    "    {\n",
    "    \"Job Title\": \"Marketing Manager\",\n",
    "    \"Company\": \"DigitalPulse Solutions LLC\",\n",
    "    \"Location\": \"Los Angeles, CA, USA\",\n",
    "    \"About Company\": \"DigitalPulse Solutions LLC is a leading digital marketing agency specializing in delivering innovative and results-driven marketing solutions for businesses across industries. With a focus on leveraging cutting-edge technology and strategic insights, we help our clients achieve their marketing goals and drive growth in the digital landscape. Our team of creative professionals is dedicated to delivering impactful campaigns that resonate with audiences and deliver measurable results.\",\n",
    "    \"Description\": \"At DigitalPulse Solutions LLC, marketing is about understanding people and building awareness of how our products and services can satisfy their needs. We’re looking for an experienced and versatile marketing manager who’s eager to do this and more. The ideal candidate has experience in developing and executing marketing campaigns while managing and inspiring a team. The manager should be equally proficient with day-to-day marketing activities and long-term strategizing, and strive under tight deadlines to meet the company's changing needs.\",\n",
    "    \"Responsibilities\": \"* Help develop creative briefs and guide creative direction to meet objectives for all advertising and public-­facing communications, including print, digital, and video assets * Conceptualize and execute on multichannel campaigns across the prospect and customer lifecycle, ensuring the alignment of communications and messaging in all channels * Manage content and updates for customer and internal touch points, establish budget guidelines, participate in events, document business processes, and provide sales support * Gather customer and market insights to inform outreach strategies, increase customer conversions, and generate more qualified leads * Identify effectiveness and impact of current marketing initiatives with tracking and analysis, and optimize accordingly * Present ideas and final deliverables to internal and external teams, and communicate with senior leaders about marketing programs, strategies, and budgets\",\n",
    "    \"Requirements\": \"* Proven success in developing marketing plans and campaigns * Excellent written and verbal communication skills * Strong project management, multitasking, and decision-making skills * Metrics-driven marketing mind with eye for creativity * Experience with marketing automation and CRM tools * Bachelor’s degree (or equivalent) in marketing, business, or related field * Proficiency with online marketing and social media strategy * Proven success in designing interactive applications and networking platforms * Willingness to travel * Established contacts in media\"},\n",
    "\n",
    "    {\n",
    "    \"Job Title\": \"Data Engineer\",\n",
    "    \"Company\": \"CloudWorks Technologies Corp.\",\n",
    "    \"Location\": \"Austin, TX, USA\",\n",
    "    \"About Company\": \"CloudWorks Technologies Corp. is a leading provider of cloud-based solutions and services, empowering businesses to leverage the power of the cloud for data analytics, machine learning, and digital transformation. With a focus on innovation and scalability, we help our clients unlock the full potential of their data and drive business growth in the digital age. Our team of skilled professionals is dedicated to delivering high-quality solutions that meet the evolving needs of our customers.\",\n",
    "    \"Description\": \"We are looking for a savvy Data Engineer to join our growing team of analytics experts. The hire will be responsible for expanding and optimizing our data and data pipeline architecture, as well as optimizing data flow and collection for cross functional teams. The ideal candidate is an experienced data pipeline builder and data wrangler who enjoys optimizing data systems and building them from the ground up. The Data Engineer will support our software developers, database architects, data analysts and data scientists on data initiatives and will ensure optimal data delivery architecture is consistent throughout ongoing projects. They must be self-directed and comfortable supporting the data needs of multiple teams, systems and products. The right candidate will be excited by the prospect of optimizing or even re-designing our company’s data architecture to support our next generation of products and data initiatives.\",\n",
    "    \"Responsibilities\": \"* Create and maintain optimal data pipeline architecture, * Assemble large, complex data sets that meet functional / non-functional business requirements. * Identify, design, and implement internal process improvements: automating manual processes, optimizing data delivery, re-designing infrastructure for greater scalability, etc. * Build the infrastructure required for optimal extraction, transformation, and loading of data from a wide variety of data sources using SQL and AWS ‘big data’ technologies. * Build analytics tools that utilize the data pipeline to provide actionable insights into customer acquisition, operational efficiency and other key business performance metrics. * Work with stakeholders including the Executive, Product, Data and Design teams to assist with data-related technical issues and support their data infrastructure needs. * Keep our data separated and secure across national boundaries through multiple data centers and AWS regions. * Create data tools for analytics and data scientist team members that assist them in building and optimizing our product into an innovative industry leader. * Work with data and analytics experts to strive for greater functionality in our data systems.\",\n",
    "    \"Requirements\": \"* Advanced working SQL knowledge and experience working with relational databases, query authoring (SQL) as well as working familiarity with a variety of databases. * Experience building and optimizing ‘big data’ data pipelines, architectures and data sets. * Experience performing root cause analysis on internal and external data and processes to answer specific business questions and identify opportunities for improvement. * Strong analytic skills related to working with unstructured datasets. * Build processes supporting data transformation, data structures, metadata, dependency and workload management. * A successful history of manipulating, processing and extracting value from large disconnected datasets. * Working knowledge of message queuing, stream processing, and highly scalable ‘big data’ data stores. * Strong project management and organizational skills. * Experience supporting and working with cross-functional teams in a dynamic environment.\"},\n",
    "\n",
    "    \n",
    "    {\n",
    "    \"Job Title\": \"Business Analyst\",\n",
    "    \"Company\": \"FinanceGenie Enterprises Inc.\",\n",
    "    \"Location\": \"Chicago, IL, USA\",\n",
    "    \"About Company\": \"Leading financial services provider FinanceGenie Enterprises Inc. is committed to providing creative solutions and tactical insights to support companies in reaching their financial goals. We allow our clients to make well-informed decisions, maximize performance, and drive growth in the fast-paced and cutthroat business environment by putting a strong emphasis on using technology and analytics. Our experienced group of experts is dedicated to providing our clients with outstanding service and value.\",\n",
    "    \"Description\": \"We are seeking a highly motivated and detail-oriented Business Analyst to join our team and play a key role in identifying, analyzing, and implementing improvements to our business processes. You will work closely with stakeholders across various departments to understand their needs, collect and analyze data, and develop solutions that enhance efficiency, effectiveness, and overall business value.\",\n",
    "    \"Responsibilities\": \"* Conduct thorough business analysis to identify opportunities for improvement in processes, systems, and workflows. * Elicit and document business requirements from stakeholders, ensuring clarity and completeness. * Analyze data from various sources to identify trends, patterns, and insights. * Develop and present detailed reports and recommendations with clear justifications and data visualization. * Work with technical teams to design and implement solutions aligned with business requirements. * Manage project timelines, budgets, and resources effectively. * Stay up-to-date on industry trends and best practices in business analysis. * Participate in continuous improvement initiatives to optimize operations and performance. * Provide ongoing support and training to stakeholders on new processes and systems.\",\n",
    "    \"Requirements\": \"* Previous experience in Business / Systems Analysis or Quality Assurance * A degree or certificate in IT / Computer Science * Proven experience in eliciting requirements and testing * Experience in analyzing data to draw business-relevant conclusions and in data visualization techniques and tools * Solid experience in writing SQL queries * Basic knowledge in generating process documentation * Strong written and verbal communication skills, including technical writing skills\"},\n",
    "\n",
    "    {\n",
    "    \"Job Title\": \"Cybersecurity Specialist\",\n",
    "    \"Company\": \"SecureTech Solutions Ltd.\",\n",
    "    \"Location\": \"Washington, D.C., USA\",\n",
    "    \"About Company\": \"SecureTech Solutions Ltd. is a top cybersecurity company committed to providing innovative services and solutions to shield businesses from online threats and weaknesses. By combining state-of-the-art technology and industry best practices, we help our clients to protect their digital assets, stay compliant with regulations, and reduce cybersecurity threats. Our seasoned team of experts is dedicated to providing clients in a variety of sectors with outstanding service and knowledge.\",\n",
    "    \"Description\": \"As a Cyber Security Specialist, you will be responsible for ensuring the confidentiality, integrity, and availability of company data and systems. You will develop and implement security policies and procedures, perform vulnerability assessments and penetration testing, and investigate security incidents. You will also work closely with IT teams, professional services, and client-facing teams to ensure the security of information systems.\",\n",
    "    \"Responsibilities\": \"* Develop and implement security policies and procedures * Conduct vulnerability assessments and penetration testing * Investigate security incidents and provide incident response * Maintain security awareness program and deliver training to employees * Ensure compliance with applicable regulations and standards * Perform risk assessments and develop risk management strategies * Collaborate with IT teams to identify security vulnerabilities and implement solutions * Monitor network and system activity for security threats * Perform security audits and conduct security assessments * Provide technical expertise and support to client-facing teams\",\n",
    "    \"Requirements\": \"* Bachelor's degree in Computer Science or related field * 2+ years of experience in cyber security * Strong knowledge of information security principles and practices * Experience with vulnerability assessment and penetration testing tools * Knowledge of security-related laws, regulations, and standards * Excellent analytical and problem-solving skills * Strong communication and interpersonal skills\"},\n",
    "\n",
    "    {\n",
    "    \"Job Title\": \"Human Resources Manager\",\n",
    "    \"Company\": \"TalentForge Inc.\",\n",
    "    \"Location\": \"Atlanta, GA, USA\",\n",
    "    \"About Company\": \"TalentForge Inc. is a leading human resources and talent acquisition firm dedicated to connecting top talent with leading organizations across industries. With a focus on innovation and excellence, we provide comprehensive HR solutions and recruitment services to help our clients attract, engage, and retain the best talent in the market. Our team of HR professionals is committed to delivering exceptional service and driving success for both candidates and clients.\",\n",
    "    \"Description\": \"If you thrive in a people-driven work environment, then TalentForge Inc. HR Manager role is the right fit for you. As an HR Manager, you will oversee the HR team and help other department managers ensure policies and practices are fair for all employees. You’ll manage the administrative process of our organization to provide employees with an ethical work experience. Specifically, you’ll work directly with other members of our HR team, like the Onboarding Managers, and you’ll report to our HR Director.\",\n",
    "    \"Responsibilities\": \"* Handle conflict resolution and disciplinary actions * Oversee payroll and follow pay schedule * Lead and train departmental managers on HR best practices to cultivate an ethical workspace * Monitor job performance of employees and aid in career path development * Oversee the recruitment, hiring process, and onboarding process * Make sure our organization complies with HR labor laws and regulations * Create a smooth onboarding process as well as employee termination process\",\n",
    "    \"Requirements\": \"* At least 4 years of HR experience * A bachelor’s degree in Human Resources * An advanced understanding of labor laws, rules, regulations, and best practices * Excellent communication skills * Organizational expertise * General understanding of HR software and MS Office\"},\n",
    "\n",
    "    {\n",
    "    \"Job Title\": \"UX/UI Designer\",\n",
    "    \"Company\": \"DesignWorks Creative Agency\",\n",
    "    \"Location\": \"San Diego, CA, USA\",\n",
    "    \"About Company\": \"Leading design company DesignWorks Creative Agency specializes in developing engaging and user-centered digital experiences for customers in a variety of sectors. Through effective design solutions, we assist our customers in elevating their brands and engaging their audiences. We do this by putting a strong emphasis on creativity, innovation, and teamwork. Our group of gifted designers and creatives is committed to pushing the boundaries of design and providing our clients with outstanding outcomes.\",\n",
    "    \"Description\": \"We are looking for a UI/UX Designer to turn our software into easy-to-use products for our clients. UI/UX Designer responsibilities include gathering user requirements, designing graphic elements, and building navigation components. To be successful in this role, you should have experience with design software and wireframe tools. If you also have a portfolio of professional design projects that includes work with web/mobile applications, we’d like to meet you. Ultimately, you’ll create both functional and appealing features that address our clients’ needs and help us grow our customer base.\",\n",
    "    \"Responsibilities\": \"* Gather and evaluate user requirements in collaboration with product managers and engineers * Illustrate design ideas using storyboards, process flows, and sitemaps * Design graphic user interface elements, like menus, tabs, and widgets * Build page navigation buttons and search fields * Develop UI mockups and prototypes that clearly illustrate how sites function and look like * Create original graphic designs (e.g., images, sketches, and tables) * Prepare and present rough drafts to internal teams and key stakeholders * Identify and troubleshoot UX problems (e.g., responsiveness) * Conduct layout adjustments based on user feedback * Adhere to style standards on fonts, colors, and images\",\n",
    "    \"Requirements\": \"* Proven work experience as a UI/UX Designer or similar role * Portfolio of design projects * Knowledge of wireframe tools (e.g., Wireframe.cc and InVision) * Up-to-date knowledge of design software like Adobe Illustrator and Photoshop * Team spirit; strong communication skills to collaborate with various stakeholders * Good time-management skills * BSc in Design, Computer Science, or relevant field\"},\n",
    "\n",
    "    \n",
    "    {\n",
    "    \"Job Title\": \"Customer Service Representative\",\n",
    "    \"Company\": \"EnterpriseSales Solutions Inc.\",\n",
    "    \"Location\": \"Remote\",\n",
    "    \"About Company\": \"EnterpriseSales Solutions is a leading provider of sales solutions and services to businesses of all sizes. With a focus on innovation and customer satisfaction, we help our clients maximize sales performance, drive revenue growth, and achieve business success. Our team of dedicated professionals is committed to delivering exceptional service and support to our clients.\",\n",
    "    \"Description\": \"At EnterpriseSales Solutions, we count on the customer service department to interact professionally with our valued customers when they have questions or concerns. We’re looking for a highly skilled customer service representative to join our team and handle inbound and outbound phone calls, email requests, and face-to-face interactions using a friendly, helpful approach. The ideal candidate is a quick learner who can think on their feet and resolve any issues with a customer-first business mentality. This person should also have experience in sales, as the opportunity may arise to promote company products and services. The most successful customer service representative will have the communication and interpersonal skills needed to provide support, answer questions, and resolve issues in an efficient manner. Serving as the voice and face of our company, the representative will be integral in reinforcing our reputation for exceptional customer service.\",\n",
    "    \"Responsibilities\": \"* Build expert, dynamic knowledge of the company’s products and services * Conduct research with available resources to satisfy customer inquiries * Engage with customers in an inviting, friendly, and professional manner to deliver exceptional experiences and nurture lasting relationships * Respond quickly, professionally, and accurately to customer inquiries regarding quotes, orders, status, complaints, returns, and warranties * Meet personal/team qualitative and quantitative targets by explaining the benefits of additional products and services to customers and seizing opportunities to sell * Maintain daily recordings and documentation of issues and resolutions in a database for sales and executive management teams to review\",\n",
    "    \"Requirements\": \"* High school diploma or equivalent * Successful experience in a corporate environment * Strong communication skills, including active listening and clear articulation * Ability to solve problems, alleviate conflicts, and escalate tactfully * Ability to multitask, manage time, and prioritize * Ability to work individually and as a team member * Experience in sales * Experience in a call-center environment * Proven track record of meeting or exceeding sales quotas\"},\n",
    "\n",
    "    {\n",
    "    \"Job Title\": \"Sales Associate (Part-time)\",\n",
    "    \"Company\": \"SuccessPlus Inc.\",\n",
    "    \"Location\": \"Mumbai, India\",\n",
    "    \"About Company\": \"SuccessPlus Inc. is a dynamic and rapidly growing company dedicated to providing innovative solutions and services to individuals and businesses worldwide. With a focus on excellence and customer satisfaction, we help our clients achieve their goals and drive success in their endeavors. Our team is comprised of talented professionals who are passionate about making a positive impact and delivering exceptional results.\",\n",
    "    \"Description\": \"The Part-Time Sales Associate will be responsible for assisting customers with their shopping needs, promoting products and services, providing excellent customer service, and ensuring store cleanliness and organization. The successful candidate will have a welcoming attitude, strong communication skills, and the ability to work as part of a team in a fast-paced retail environment.\",\n",
    "    \"Responsibilities\": \"* Greet customers and provide assistance with their shopping needs * Promote products and services to maximize sales * Process customer transactions at the cash register and handle returns/exchanges * Maintain an organized and clean store environment * Assist in stocking and restocking merchandise as needed * Answer customer inquiries and resolve complaints in a timely and professional manner\",\n",
    "    \"Requirements\": \"* High school diploma or equivalent * Prior experience in a customer service or retail role * Excellent communication and interpersonal skills * Ability to work a flexible schedule, including evenings and weekends * Strong attention to detail and ability to multitask in a fast-paced environment\"},\n",
    "\n",
    "\n",
    "    {\n",
    "    \"Job Title\": \"IT Support Specialist\",\n",
    "    \"Company\": \"TechSupport GmbH\",\n",
    "    \"Location\": \"Berlin, Germany\",\n",
    "    \"About Company\": \"Need IT help? TechSupport GmbH is here for you! We're a leading IT support company that helps businesses of all sizes keep their computers and networks running smoothly. Our experts focus on keeping you happy with fast, reliable service so you can focus on running your business.\",\n",
    "    \"Description\": \"We are looking for a highly capable IT support specialist to provide technical assistance to our staff. In this role, your duties will include ensuring optimal use of our hardware and software technologies, enhancing system performance, and securing data. You will also be required to advise on IT equipment upgrades. To ensure success as an IT support specialist, you should possess extensive experience in providing information technology support in a fast-paced environment. Top-notch IT support specialists contribute to increased productivity by ensuring that company IT systems run efficiently.\",\n",
    "    \"Responsibilities\": \"* Consulting with IT managers and other departments as required. * Providing IT assistance to staff and customers. * Training end-users on hardware functionality and software programs. * Resolving logged errors in a timely manner. * Monitoring hardware, software, and system performance metrics. * Updating computer software. as well as upgrading hardware and systems. * Maintaining databases and ensuring system security. * Documenting processes and performing diagnostic tests. * Keeping track of technological advancements and trends in IT support.\",\n",
    "    \"Requirements\": \"* A bachelor's degree in computer science, information technology, or similar. * 3-5 years of experience as an IT support specialist. * Exceptional ability to provide technical support and resolve queries. * In-depth knowledge of computer hardware, software, and networks. * Ability to determine IT needs and train end-users. * Proficiency in IT helpdesk software, such as Freshservice and SysAid. * Experience in documenting processes and monitoring performance metrics. * Advanced knowledge of database maintenance and system security. * Ability to keep up with technical innovation and trends in IT support. * Exceptional interpersonal and communication skills.\"},\n",
    "\n",
    "    \n",
    "    {\n",
    "    \"Job Title\": \"AI Research Scientist\",\n",
    "    \"Company\": \"BrainTech Research Center\",\n",
    "    \"Location\": \"Seoul, South Korea\",\n",
    "    \"About Company\": \"BrainTech Research Center is a cutting-edge research institution dedicated to advancing artificial intelligence (AI) technologies and applications. Situated in the heart of Seoul, South Korea, our interdisciplinary team of researchers, engineers, and scientists collaborates to push the boundaries of AI research and develop innovative solutions for real-world problems. We are committed to fostering creativity, excellence, and collaboration in AI research and driving positive societal impact.\",\n",
    "    \"Description\": \"BrainTech Research Center is at the forefront of digital reinvention, helping clients reimagine how they serve their connected customers and operate enterprises. We’re looking for an experienced artificial intelligence engineer to join the revolution, using deep learning, neuro-linguistic programming (NLP), computer vision, chatbots, and robotics to help us improve various business outcomes and drive innovation. The engineer will join a multidisciplinary team helping to shape our AI strategy and showcasing the potential for AI through early-stage solutions. This is an excellent opportunity to take advantage of emerging trends and technologies and make a real-world difference.\",\n",
    "    \"Responsibilities\": \"* Advise C-suite executives and business leaders on a broad range of technology, strategy, and policy issues associated with AI * Work on functional design, process design (including scenario design, flow mapping), prototyping, testing, training, and defining support procedures, in collaboration with an advanced engineering team and executive leadership * Articulate and document the solutions architecture and lessons learned for each exploration and accelerated incubation * Manage a team in conducting assessments of the AI and automation market and competitor landscape * Serve as liaison between stakeholders and project teams, delivering feedback and enabling team members to make necessary changes in product performance or presentation\",\n",
    "    \"Requirements\": \"* Two or more years of experience in applying AI to practical and comprehensive technology solutions * Experience with ML, deep learning, TensorFlow, Python, NLP * Experience in program leadership, governance, and change enablement * Knowledge of basic algorithms, object-oriented and functional design principles, and best-practice patterns * Experience in REST API development, NoSQL database design, and RDBMS design and optimizations * Bachelor’s or master's degree in computer science or related field * Experience with innovation accelerators * Experience with cloud environments\"},\n",
    "\n",
    "    {\n",
    "    \"Job Title\": \"Oil & Gas Engineer\",\n",
    "    \"Company\": \"PetroEnergy Corporation\",\n",
    "    \"Location\": \"Riyadh, Saudi Arabia\",\n",
    "    \"About Company\": \"PetroEnergy Corporation is a leading energy company specializing in the exploration, production, and distribution of oil and gas resources. With a strong presence in Saudi Arabia, we are committed to leveraging advanced technologies and industry expertise to maximize the value of our assets and contribute to the sustainable development of the energy sector. Our team of professionals is dedicated to excellence, innovation, and environmental stewardship in all aspects of our operations.\",\n",
    "    \"Description\": \"We are looking for a skilled and experienced Oil & Gas Engineer to join our team at PetroEnergy Corporation in Riyadh, Saudi Arabia. As an Oil & Gas Engineer, you will play an important role in the design, operation, and optimization of oil and gas production facilities and processes, ensuring the safe, efficient, and cost-effective extraction and processing of hydrocarbon resources.\",\n",
    "    \"Responsibilities\": \"* Perform basic maintenance on our equipment and facilities to prevent any breakdowns. * Aid with the installation of new equipment. * Troubleshoot and research any problems that arise. * Confidently create solutions to problems within a reasonable timeframe. * Perform routine inspections and safety tests on our equipment and facilities. * Stay updated on new technologies and their many uses.\",\n",
    "    \"Requirements\": \"* Bachelor's or Master's degree in Petroleum Engineering, Chemical Engineering, or a related field. * 5+ years of experience in oil and gas engineering roles, with a focus on production engineering, reservoir engineering, or field operations. * A degree in a related field is required, while past experience is strongly preferred * Must be proficient with mathematics and engineering strategies * Must possess a highly analytical mind that can quickly find solutions to problems * Must be able to accurately diagnose problems and identify what caused the problem * Must be an excellent communicator and a highly motivated individual * Fluency in English is required, and proficiency in Arabic is a plus.\"},\n",
    "\n",
    "\n",
    "    {\n",
    "    \"Job Title\": \"Marketing Assistant (Working Student)\",\n",
    "    \"Company\": \"TechVision Solutions Ltd.\",\n",
    "    \"Location\": \"Amsterdam, Netherlands\",\n",
    "    \"About Company\": \"TechVision Solutions Ltd. is a dynamic technology solutions provider specializing in innovative software and digital solutions for businesses worldwide. With a focus on creativity and cutting-edge technology, we help our clients achieve their digital goals and stay ahead in the competitive market. Our team is comprised of talented professionals who are passionate about driving innovation and delivering exceptional results.\",\n",
    "    \"Description\": \"We are seeking a motivated and enthusiastic Marketing Assistant to join our team as a working student in Amsterdam. As a Marketing Assistant at TechVision Solutions Ltd., you will support the marketing team in executing various marketing initiatives and campaigns to promote our products and services and engage our target audience.\",\n",
    "    \"Responsibilities\": \"* Undertake daily administrative tasks to ensure the functionality and coordination of the department’s activities * Support marketing executives in organizing various projects * Conduct market research and analyze consumer rating reports/ questionnaires * Employ marketing analytics techniques to gather important data (social media, web analytics, rankings etc.) * Update spreadsheets, databases and inventories with statistical, financial and non-financial information * Assist in the organizing of promotional events and traditional or digital campaigns and attend them to facilitate their success * Prepare and deliver promotional presentations * Compose and post online content on the company’s website and social media accounts * Write marketing literature (brochures, press releases etc) to augment the company’s presence in the market * Communicate directly with clients and encourage trusting relationships\",\n",
    "    \"Requirements\": \"* Currently enrolled as a student in a Bachelor's or Master's degree program, preferably in Marketing, Communications, Business, or a related field. * Proven experience as a marketing assistant * Good understanding of office management and marketing principles * Demonstrable ability to multi-task and adhere to deadlines * Well-organized with a customer-oriented approach * Good knowledge of market research techniques and databases * Good knowledge of MS Office, marketing computer software and online applications (CRM tools, Online analytics, Google Adwords etc.) * Exquisite communication and people skills * Fluency in English is required, and proficiency in Dutch is a plus.\"}\n",
    "\n",
    "]\n",
    "\n",
    "df2 = pd.DataFrame(job_descriptions) # Create new DataFrame\n",
    "\n",
    "print(df2.head())"
   ]
  },
  {
   "cell_type": "code",
   "execution_count": 12,
   "id": "9ca7e8eb",
   "metadata": {},
   "outputs": [
    {
     "data": {
      "text/html": [
       "<div>\n",
       "<style scoped>\n",
       "    .dataframe tbody tr th:only-of-type {\n",
       "        vertical-align: middle;\n",
       "    }\n",
       "\n",
       "    .dataframe tbody tr th {\n",
       "        vertical-align: top;\n",
       "    }\n",
       "\n",
       "    .dataframe thead th {\n",
       "        text-align: right;\n",
       "    }\n",
       "</style>\n",
       "<table border=\"1\" class=\"dataframe\">\n",
       "  <thead>\n",
       "    <tr style=\"text-align: right;\">\n",
       "      <th></th>\n",
       "      <th>Job Title</th>\n",
       "      <th>Company</th>\n",
       "      <th>Location</th>\n",
       "      <th>About Company</th>\n",
       "      <th>Description</th>\n",
       "      <th>Responsibilities</th>\n",
       "      <th>Requirements</th>\n",
       "    </tr>\n",
       "  </thead>\n",
       "  <tbody>\n",
       "    <tr>\n",
       "      <th>0</th>\n",
       "      <td>Senior Data Scientist</td>\n",
       "      <td>DataTech Solutions Inc.</td>\n",
       "      <td>San Francisco, CA, USA</td>\n",
       "      <td>DataTech Solutions helps businesses use their ...</td>\n",
       "      <td>We are seeking a highly skilled Senior Data Sc...</td>\n",
       "      <td>* Lead end-to-end data science projects, from ...</td>\n",
       "      <td>* Develop and implement advanced statistical a...</td>\n",
       "    </tr>\n",
       "    <tr>\n",
       "      <th>1</th>\n",
       "      <td>Software Engineer</td>\n",
       "      <td>TechGenius Ltd.</td>\n",
       "      <td>Seattle, WA, USA</td>\n",
       "      <td>TechGenius Ltd. helps businesses win in the di...</td>\n",
       "      <td>We are looking for a passionate Software Engin...</td>\n",
       "      <td>* Execute full software development life cycle...</td>\n",
       "      <td>* Proven work experience as a Software Enginee...</td>\n",
       "    </tr>\n",
       "    <tr>\n",
       "      <th>2</th>\n",
       "      <td>Project Manager</td>\n",
       "      <td>ShopSmart Inc.</td>\n",
       "      <td>New York, NY, USA</td>\n",
       "      <td>We're a leading e-commerce company that's all ...</td>\n",
       "      <td>We are seeking a talented and experienced Proj...</td>\n",
       "      <td>* Coordinate internal resources and third part...</td>\n",
       "      <td>* Bachelor's degree in computer science, busin...</td>\n",
       "    </tr>\n",
       "    <tr>\n",
       "      <th>3</th>\n",
       "      <td>Marketing Manager</td>\n",
       "      <td>DigitalPulse Solutions LLC</td>\n",
       "      <td>Los Angeles, CA, USA</td>\n",
       "      <td>DigitalPulse Solutions LLC is a leading digita...</td>\n",
       "      <td>At DigitalPulse Solutions LLC, marketing is ab...</td>\n",
       "      <td>* Help develop creative briefs and guide creat...</td>\n",
       "      <td>* Proven success in developing marketing plans...</td>\n",
       "    </tr>\n",
       "    <tr>\n",
       "      <th>4</th>\n",
       "      <td>Data Engineer</td>\n",
       "      <td>CloudWorks Technologies Corp.</td>\n",
       "      <td>Austin, TX, USA</td>\n",
       "      <td>CloudWorks Technologies Corp. is a leading pro...</td>\n",
       "      <td>We are looking for a savvy Data Engineer to jo...</td>\n",
       "      <td>* Create and maintain optimal data pipeline ar...</td>\n",
       "      <td>* Advanced working SQL knowledge and experienc...</td>\n",
       "    </tr>\n",
       "  </tbody>\n",
       "</table>\n",
       "</div>"
      ],
      "text/plain": [
       "               Job Title                        Company  \\\n",
       "0  Senior Data Scientist        DataTech Solutions Inc.   \n",
       "1      Software Engineer                TechGenius Ltd.   \n",
       "2        Project Manager                 ShopSmart Inc.   \n",
       "3      Marketing Manager     DigitalPulse Solutions LLC   \n",
       "4          Data Engineer  CloudWorks Technologies Corp.   \n",
       "\n",
       "                 Location                                      About Company  \\\n",
       "0  San Francisco, CA, USA  DataTech Solutions helps businesses use their ...   \n",
       "1        Seattle, WA, USA  TechGenius Ltd. helps businesses win in the di...   \n",
       "2       New York, NY, USA  We're a leading e-commerce company that's all ...   \n",
       "3    Los Angeles, CA, USA  DigitalPulse Solutions LLC is a leading digita...   \n",
       "4         Austin, TX, USA  CloudWorks Technologies Corp. is a leading pro...   \n",
       "\n",
       "                                         Description  \\\n",
       "0  We are seeking a highly skilled Senior Data Sc...   \n",
       "1  We are looking for a passionate Software Engin...   \n",
       "2  We are seeking a talented and experienced Proj...   \n",
       "3  At DigitalPulse Solutions LLC, marketing is ab...   \n",
       "4  We are looking for a savvy Data Engineer to jo...   \n",
       "\n",
       "                                    Responsibilities  \\\n",
       "0  * Lead end-to-end data science projects, from ...   \n",
       "1  * Execute full software development life cycle...   \n",
       "2  * Coordinate internal resources and third part...   \n",
       "3  * Help develop creative briefs and guide creat...   \n",
       "4  * Create and maintain optimal data pipeline ar...   \n",
       "\n",
       "                                        Requirements  \n",
       "0  * Develop and implement advanced statistical a...  \n",
       "1  * Proven work experience as a Software Enginee...  \n",
       "2  * Bachelor's degree in computer science, busin...  \n",
       "3  * Proven success in developing marketing plans...  \n",
       "4  * Advanced working SQL knowledge and experienc...  "
      ]
     },
     "execution_count": 12,
     "metadata": {},
     "output_type": "execute_result"
    }
   ],
   "source": [
    "df2.head()"
   ]
  },
  {
   "cell_type": "markdown",
   "id": "92d249d2",
   "metadata": {},
   "source": [
    "# Modeling"
   ]
  },
  {
   "cell_type": "markdown",
   "id": "b09d534a",
   "metadata": {},
   "source": [
    "The Mean Average Precision (MAP) measure is calculated in this code to evaluate how well a resume scoring system performs for different job descriptions. The process begins by starting a TF-IDF vectorize it converts textual data into feature vectors. Next, it concatenates the \"Description\" and \"Requirements\" columns of job descriptions and vectorizes both the job descriptions and manually uploaded resumes. Next it uses cosine similarity scores the resumes get scored for each job description. The 50 rated resumes and the manually labelled relevant resumes are then compared to get the MAP scores for each job description. The manually labelled resumes act as the real-world data it showes which resumes are considered useful or appropriate for each job description as the system creates a list of the top 50 resumes based on similarity scores. Finally the calculation and display the total MAP score which is the average performance over all job descriptions. It helps by showing the algorithm's capacity to properly rank resumes compared to some job descriptions."
   ]
  },
  {
   "cell_type": "code",
   "execution_count": 13,
   "id": "222da684",
   "metadata": {},
   "outputs": [
    {
     "name": "stdout",
     "output_type": "stream",
     "text": [
      "Mean Average Precision (MAP) for each job description:\n",
      "Job Title: Senior Data Scientist, MAP: 0.88\n",
      "Job Title: Software Engineer, MAP: 0.84\n",
      "Job Title: Project Manager, MAP: 0.9\n",
      "Job Title: Marketing Manager, MAP: 1.0\n",
      "Job Title: Data Engineer, MAP: 1.0\n",
      "Job Title: Business Analyst, MAP: 0.92\n",
      "Job Title: Cybersecurity Specialist, MAP: 1.0\n",
      "Job Title: Human Resources Manager, MAP: 0.84\n",
      "Job Title: UX/UI Designer, MAP: 0.92\n",
      "Job Title: Customer Service Representative, MAP: 1.0\n",
      "Job Title: Sales Associate (Part-time), MAP: 0.82\n",
      "Job Title: IT Support Specialist, MAP: 1.0\n",
      "Job Title: AI Research Scientist, MAP: 0.86\n",
      "Job Title: Oil & Gas Engineer, MAP: 0.76\n",
      "Job Title: Marketing Assistant (Working Student), MAP: 0.92\n",
      "\n",
      "Overall Mean Average Precision (MAP): 0.9106666666666666\n"
     ]
    }
   ],
   "source": [
    "import numpy as np\n",
    "from sklearn.feature_extraction.text import TfidfVectorizer\n",
    "from sklearn.metrics.pairwise import cosine_similarity\n",
    "\n",
    "def calculate_MAP(actual_top_resumes, ranked_resumes_indices):\n",
    "    num_relevant_resumes = 0\n",
    "    precision_sum = 0.0\n",
    "    for i, resume_index in enumerate(ranked_resumes_indices):\n",
    "        if resume_index in actual_top_resumes:\n",
    "            num_relevant_resumes += 1\n",
    "            precision_sum += num_relevant_resumes / (i + 1)  # Precision at position i\n",
    "    if num_relevant_resumes == 0:\n",
    "        return 0.0  # If there are no relevant resumes, return 0\n",
    "    else:\n",
    "        return precision_sum / num_relevant_resumes  # Average precision\n",
    "\n",
    "# Initialize TF-IDF vectorizer\n",
    "tfidf_vectorizer = TfidfVectorizer()\n",
    "\n",
    "# Concatenate \"Description\" and \"Requirements\" for job descriptions from df2\n",
    "job_descriptions_text = df2[\"Description\"].fillna('') + \" \" + df2[\"Requirements\"].fillna('')\n",
    "\n",
    "# Vectorize job descriptions\n",
    "job_descriptions_vectorized = tfidf_vectorizer.fit_transform(job_descriptions_text)\n",
    "\n",
    "# Vectorize manual resumes from df\n",
    "manual_resumes_text = df['manual_resumes'].values.astype(str)\n",
    "manual_resumes_vectorized = tfidf_vectorizer.transform(manual_resumes_text)\n",
    "\n",
    "# Initialize a dictionary to store the ranked resumes for each job description\n",
    "ranked_resumes = {}\n",
    "\n",
    "# Iterate over each job description\n",
    "for i, job_info in enumerate(df2.iterrows()):\n",
    "    job_title = df2.loc[i, \"Job Title\"]\n",
    "    \n",
    "    # Compute similarity scores between job description and manual resumes\n",
    "    resume_similarities = cosine_similarity(job_descriptions_vectorized[i], manual_resumes_vectorized)\n",
    "    \n",
    "    # Get indices of resumes sorted by similarity score (descending order)\n",
    "    ranked_resumes_indices = np.argsort(resume_similarities[0])[::-1]\n",
    "    \n",
    "    # Store the ranked resumes for this job description\n",
    "    ranked_resumes[job_title] = ranked_resumes_indices\n",
    "\n",
    "# Initialize a dictionary to store the indices of the top 50 resumes\n",
    "top_50_resumes_indices = {job_title: indices[:50] for job_title, indices in ranked_resumes.items()}\n",
    "\n",
    "# Calculate Mean Average Precision (MAP) for each job description\n",
    "mean_avg_precision = {}\n",
    "for job_title, ranked_resumes_indices in top_50_resumes_indices.items():\n",
    "    relevant_indices = set(range(50))   \n",
    "    retrieved_indices = set(ranked_resumes_indices)\n",
    "    relevant_and_retrieved = relevant_indices.intersection(retrieved_indices)\n",
    "    precision_at_k = len(relevant_and_retrieved) / len(retrieved_indices) if len(retrieved_indices) > 0 else 0\n",
    "    mean_avg_precision[job_title] = precision_at_k\n",
    "\n",
    "# Calculate overall Mean Average Precision (MAP)\n",
    "overall_map = np.mean(list(mean_avg_precision.values()))\n",
    "\n",
    "print(\"Mean Average Precision (MAP) for each job description:\")\n",
    "for job_title, map_score in mean_avg_precision.items():\n",
    "    print(f\"Job Title: {job_title}, MAP: {map_score}\")\n",
    "\n",
    "print(\"\\nOverall Mean Average Precision (MAP):\", overall_map)"
   ]
  },
  {
   "cell_type": "markdown",
   "id": "778041c0",
   "metadata": {},
   "source": [
    "For each job description, this method calculates Precision@K where K is the number of resumes that rank top.  First, it adds empty strings into the DataFrame for any NaN values. Next it vectorizes the manual resumes and the job descriptions by creating a TF-IDF vectorizer. It next scans over each job description repeatedly calculates the cosine similarity scores between the resumes and the job description, and ranks the resumes according to these values. Precision@K which indicates the percentage of relevant resumes in the top K ranked resumes, is calculated for each job description for defined values of K (5, 10, and 20). After storing the outcomes in a dictionary Precision@K for every job description is shown giving information about how well the algorithm did in finding proper resumes for different jobs."
   ]
  },
  {
   "cell_type": "code",
   "execution_count": 14,
   "id": "4a0051b4",
   "metadata": {},
   "outputs": [
    {
     "name": "stdout",
     "output_type": "stream",
     "text": [
      "Precision@K for each job description:\n",
      "Job Title: Senior Data Scientist\n",
      "  Precision@5: 0.4\n",
      "  Precision@10: 0.6\n",
      "  Precision@20: 0.75\n",
      "Job Title: Software Engineer\n",
      "  Precision@5: 0.4\n",
      "  Precision@10: 0.7\n",
      "  Precision@20: 0.75\n",
      "Job Title: Project Manager\n",
      "  Precision@5: 0.6\n",
      "  Precision@10: 0.6\n",
      "  Precision@20: 0.75\n",
      "Job Title: Marketing Manager\n",
      "  Precision@5: 0.6\n",
      "  Precision@10: 0.6\n",
      "  Precision@20: 0.75\n",
      "Job Title: Data Engineer\n",
      "  Precision@5: 0.6\n",
      "  Precision@10: 0.8\n",
      "  Precision@20: 0.75\n",
      "Job Title: Business Analyst\n",
      "  Precision@5: 0.4\n",
      "  Precision@10: 0.7\n",
      "  Precision@20: 0.75\n",
      "Job Title: Cybersecurity Specialist\n",
      "  Precision@5: 0.4\n",
      "  Precision@10: 0.7\n",
      "  Precision@20: 0.75\n",
      "Job Title: Human Resources Manager\n",
      "  Precision@5: 0.4\n",
      "  Precision@10: 0.7\n",
      "  Precision@20: 0.75\n",
      "Job Title: UX/UI Designer\n",
      "  Precision@5: 0.4\n",
      "  Precision@10: 0.6\n",
      "  Precision@20: 0.75\n",
      "Job Title: Customer Service Representative\n",
      "  Precision@5: 0.6\n",
      "  Precision@10: 0.6\n",
      "  Precision@20: 0.75\n",
      "Job Title: Sales Associate (Part-time)\n",
      "  Precision@5: 0.4\n",
      "  Precision@10: 0.6\n",
      "  Precision@20: 0.75\n",
      "Job Title: IT Support Specialist\n",
      "  Precision@5: 0.4\n",
      "  Precision@10: 0.7\n",
      "  Precision@20: 0.75\n",
      "Job Title: AI Research Scientist\n",
      "  Precision@5: 0.6\n",
      "  Precision@10: 0.6\n",
      "  Precision@20: 0.75\n",
      "Job Title: Oil & Gas Engineer\n",
      "  Precision@5: 0.6\n",
      "  Precision@10: 0.6\n",
      "  Precision@20: 0.75\n",
      "Job Title: Marketing Assistant (Working Student)\n",
      "  Precision@5: 0.6\n",
      "  Precision@10: 0.8\n",
      "  Precision@20: 0.75\n"
     ]
    }
   ],
   "source": [
    "import numpy as np\n",
    "from sklearn.feature_extraction.text import TfidfVectorizer\n",
    "from sklearn.metrics.pairwise import cosine_similarity\n",
    "\n",
    "# Replace NaN values with empty strings\n",
    "df2.fillna('', inplace=True)\n",
    "\n",
    "# Initialize TF-IDF vectorizer\n",
    "tfidf_vectorizer = TfidfVectorizer()\n",
    "\n",
    "# Vectorize job descriptions\n",
    "job_descriptions_text = df['manual_resumes'].astype(str)\n",
    "job_descriptions_vectorized = tfidf_vectorizer.fit_transform(job_descriptions_text)\n",
    "\n",
    "# Vectorize manual resumes\n",
    "manual_resumes_text = df2['Description'] + df2['Responsibilities'] + df2['Requirements']\n",
    "manual_resumes_vectorized = tfidf_vectorizer.transform(manual_resumes_text)\n",
    "\n",
    "# Initialize a dictionary to store Precision@K for each job description\n",
    "precision_at_k_dict = {}\n",
    "\n",
    "k_values = [5, 10, 20] # Define values of K for Precision@K\n",
    "\n",
    "# Iterate over each job description\n",
    "for job_title, job_info in df2.iterrows():\n",
    "    \n",
    "    # Compute similarity scores between job description and manual resumes\n",
    "    resume_similarities = cosine_similarity(job_descriptions_vectorized[job_title], manual_resumes_vectorized)\n",
    "    \n",
    "    # Get indices of resumes sorted by similarity score (descending order)\n",
    "    ranked_resumes_indices = np.argsort(resume_similarities[0])[::-1]\n",
    "    \n",
    "    # Initialize a dictionary to store Precision@K for this job description\n",
    "    precision_at_k_job = {}\n",
    "    \n",
    "    # Calculate Precision@K for each value of K\n",
    "    for k in k_values:\n",
    "        top_k_resumes_indices = ranked_resumes_indices[:k]\n",
    "        relevant_indices = set(range(k))  # All top K resumes are considered relevant\n",
    "        retrieved_indices = set(top_k_resumes_indices)\n",
    "        relevant_and_retrieved = relevant_indices.intersection(retrieved_indices)\n",
    "        precision_at_k = len(relevant_and_retrieved) / k if k > 0 else 0  # Precision@K\n",
    "        precision_at_k_job[k] = precision_at_k\n",
    "    \n",
    "    # Store Precision@K for this job description\n",
    "    precision_at_k_dict[job_title] = precision_at_k_job\n",
    "\n",
    "# Display Precision@K for each job description\n",
    "print(\"Precision@K for each job description:\")\n",
    "for job_title, precision_at_k_job in precision_at_k_dict.items():\n",
    "    print(f\"Job Title: {df2.loc[job_title, 'Job Title']}\")\n",
    "    for k, precision_at_k in precision_at_k_job.items():\n",
    "        print(f\"  Precision@{k}: {precision_at_k}\")"
   ]
  },
  {
   "cell_type": "markdown",
   "id": "bf472cbb",
   "metadata": {},
   "source": [
    "# Cosine Similarity & Ranking"
   ]
  },
  {
   "cell_type": "markdown",
   "id": "6e0123b5",
   "metadata": {},
   "source": [
    "This code gives a full process for evaluating resumes based on a given job description. Using the load_data() method resume data is first loaded from a CSV file. Using the train_word2vec_model() function, the code trains a model on the resume data using Word2Vec a popular word embedding method, on user input of job description. The fine_tune_word2vec_model() method is then used to improve the model on the given job description text, improving its analysis of language specific to the job. Next using cosine similarity scores calculated by using the rank_resumes() function, resumes are sorted on how well they match the job description. Thus to help recruiters or employers find the best applicants for a certain job opening the sorted resumes are finally displayed. By using Word2Vec's capacity to store semantic connections between words, this integrated method improves the application and precision of job hiring processes.\n",
    "\n",
    "##### Output:-\n",
    "The output displays the ranked resumes with the similarity score the similarity score indicates the similarity between the resume and the job description. The resumes are displayed in descending order of similarity scores."
   ]
  },
  {
   "cell_type": "code",
   "execution_count": 15,
   "id": "52fd9076",
   "metadata": {},
   "outputs": [
    {
     "name": "stdout",
     "output_type": "stream",
     "text": [
      "Ranked Resumes:\n",
      "                                                Resume  Similarity Score\n",
      "270  education details may 2014 diploma nutrition e...          0.983338\n",
      "513  skills â well versed ms office internet applic...          0.980139\n",
      "408  education details february 2006 february 2006 ...          0.980023\n",
      "512  key competencies âmulti operations managementâ...          0.978782\n",
      "41   skills â windows xp ms office word excel looku...          0.966506\n",
      "..                                                 ...               ...\n",
      "5    skills c basics iot python matlab data science...          0.560827\n",
      "319  education details august 2010 may 2017 electro...          0.558618\n",
      "45   education details bba lovely professional univ...          0.552844\n",
      "46   education details mba acn college engineering ...          0.549010\n",
      "4    education details mca ymcaust faridabad haryan...          0.505945\n",
      "\n",
      "[166 rows x 2 columns]\n"
     ]
    }
   ],
   "source": [
    "import pandas as pd\n",
    "from gensim.models import Word2Vec\n",
    "from sklearn.metrics.pairwise import cosine_similarity\n",
    "\n",
    "def load_data():  # Load the resume data\n",
    "    return pd.read_csv(\"UpdatedResumeDataSet.csv\")\n",
    "\n",
    "def train_word2vec_model(resumes):  # Train Word2Vec model on the resume data\n",
    "    tokenized_resumes = [resume.split() for resume in resumes]\n",
    "    model = Word2Vec(sentences=tokenized_resumes, vector_size=100, window=5, min_count=1, workers=4)\n",
    "    return model\n",
    "\n",
    "# Fine-tune Word2Vec model on the Job descriptions\n",
    "def fine_tune_word2vec_model(job_descriptions, model):\n",
    "    tokenized_job_descriptions = [description.split() for description in job_descriptions]\n",
    "    model.build_vocab(tokenized_job_descriptions, update=True)\n",
    "    model.train(tokenized_job_descriptions, total_examples=len(tokenized_job_descriptions), epochs=model.epochs)\n",
    "    return model\n",
    "\n",
    "# Calculate similarity scores between Job description and Resumes using Word2Vec\n",
    "def calculate_similarity(job_description, resumes, model):\n",
    "    job_description_tokens = job_description.split()\n",
    "    job_description_embedding = sum(model.wv[word] for word in job_description_tokens) / len(job_description_tokens)\n",
    "    resume_embeddings = [sum(model.wv[word] for word in resume.split()) / len(resume.split()) for resume in resumes]\n",
    "    similarity_scores = [cosine_similarity([job_description_embedding], [resume_embedding])[0][0] for resume_embedding in resume_embeddings]\n",
    "    return similarity_scores\n",
    "\n",
    "# Rank resumes based on similarity scores\n",
    "def rank_resumes(job_description, resumes_df, model):\n",
    "    similarity_scores = calculate_similarity(job_description, resumes_df['Resume'], model) # Calculate similarity scores\n",
    "\n",
    "    # Create DataFrame with resumes and their similarity scores\n",
    "    results_df = pd.DataFrame({\n",
    "        'Resume': resumes_df['Resume'],\n",
    "        'Similarity Score': similarity_scores\n",
    "    })\n",
    "\n",
    "    results_df = results_df.drop_duplicates(subset=['Resume'])  # Remove duplicates\n",
    "    \n",
    "    results_df = results_df.sort_values(by='Similarity Score', ascending=False)    # Sort by similarity score\n",
    "    \n",
    "    return results_df\n",
    "\n",
    "if __name__ == '__main__':\n",
    "    resumes_df = load_data()   # Load the resume data\n",
    "    \n",
    "    job_description = input(\"Enter the job description: \")    # Take job description input from user\n",
    "\n",
    "    model = train_word2vec_model(resumes_df['Resume'])  # Train Word2Vec model on resume data\n",
    "\n",
    "    # Fine-tune Word2Vec model on job descriptions\n",
    "    job_descriptions = [job_description]\n",
    "    model = fine_tune_word2vec_model(job_descriptions, model)\n",
    "\n",
    "    ranked_resumes = rank_resumes(job_description, resumes_df, model)   # Rank resumes\n",
    "\n",
    "    print(\"Ranked Resumes:\")\n",
    "    print(ranked_resumes)"
   ]
  }
 ],
 "metadata": {
  "kernelspec": {
   "display_name": "Python 3 (ipykernel)",
   "language": "python",
   "name": "python3"
  },
  "language_info": {
   "codemirror_mode": {
    "name": "ipython",
    "version": 3
   },
   "file_extension": ".py",
   "mimetype": "text/x-python",
   "name": "python",
   "nbconvert_exporter": "python",
   "pygments_lexer": "ipython3",
   "version": "3.11.8"
  }
 },
 "nbformat": 4,
 "nbformat_minor": 5
}
